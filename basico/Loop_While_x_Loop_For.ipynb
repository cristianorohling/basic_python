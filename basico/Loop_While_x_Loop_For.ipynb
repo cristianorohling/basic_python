{
 "cells": [
  {
   "cell_type": "code",
   "execution_count": 13,
   "metadata": {},
   "outputs": [
    {
     "name": "stdout",
     "output_type": "stream",
     "text": [
      "Quantos Funcionários? 2\n",
      "Salário: 10\n",
      "Salário: 10\n",
      "\n",
      "Salários:\n",
      " [10.0, 10.0]\n",
      "\n",
      "\n",
      "Min: 10.0\n",
      "Max: 10.0\n",
      "Média: 10.0\n",
      "Soma: 20.0\n",
      "D.Padrão: 0.0\n"
     ]
    }
   ],
   "source": [
    "##USANDO LOOP WHILE\n",
    "\n",
    "import numpy as np\n",
    "\n",
    "Qtd_Func = int(input(\"Quantos Funcionários? \"))\n",
    "lista_func = []\n",
    "\n",
    "while Qtd_Func > 0:      \n",
    "  lista_func.append(float(input(\"Salário: \")))    \n",
    "  Qtd_Func -= 1\n",
    "\n",
    "print(\"\\nSalários:\\n\", lista_func)\n",
    "\n",
    "print(\"\\n\\nMin:\", np.min(lista_func))\n",
    "print(\"Max:\", np.max(lista_func))\n",
    "print(\"Média:\", np.mean(lista_func))\n",
    "print(\"Soma:\", np.sum(lista_func))\n",
    "print(\"D.Padrão:\", np.std(lista_func))\n"
   ]
  },
  {
   "cell_type": "code",
   "execution_count": 20,
   "metadata": {},
   "outputs": [
    {
     "name": "stdout",
     "output_type": "stream",
     "text": [
      "Quantos Funcionários? 5\n",
      "Salário: 10\n",
      "Salário: 11\n",
      "Salário: 9\n",
      "Salário: 9.5\n",
      "Salário: 10.8\n",
      "\n",
      "Salários:\n",
      " [10.0, 11.0, 9.0, 9.5, 10.8]\n",
      "\n",
      "\n",
      "Min: 9.0\n",
      "Max: 11.0\n",
      "Média: 10.059999999999999\n",
      "Soma: 50.3\n",
      "D.Padrão: 0.7578918128598567\n"
     ]
    }
   ],
   "source": [
    "##USANDO LOOP FOR\n",
    "\n",
    "import numpy as np\n",
    "\n",
    "Qtd_Func = int(input(\"Quantos Funcionários? \"))\n",
    "lista_func = []\n",
    "\n",
    "for n in range(Qtd_Func):\n",
    "    lista_func.append(float(input(\"Salário: \")))\n",
    "  \n",
    "\n",
    "print(\"\\nSalários:\\n\", lista_func)\n",
    "\n",
    "print(\"\\n\\nMin:\", np.min(lista_func))\n",
    "print(\"Max:\", np.max(lista_func))\n",
    "print(\"Média:\", np.mean(lista_func))\n",
    "print(\"Soma:\", np.sum(lista_func))\n",
    "print(\"D.Padrão:\", np.std(lista_func))"
   ]
  }
 ],
 "metadata": {
  "kernelspec": {
   "display_name": "Python 3",
   "language": "python",
   "name": "python3"
  },
  "language_info": {
   "codemirror_mode": {
    "name": "ipython",
    "version": 3
   },
   "file_extension": ".py",
   "mimetype": "text/x-python",
   "name": "python",
   "nbconvert_exporter": "python",
   "pygments_lexer": "ipython3",
   "version": "3.8.3"
  }
 },
 "nbformat": 4,
 "nbformat_minor": 4
}
