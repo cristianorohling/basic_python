{
 "cells": [
  {
   "cell_type": "code",
   "execution_count": 1,
   "metadata": {},
   "outputs": [],
   "source": [
    "import pandas as pd"
   ]
  },
  {
   "cell_type": "code",
   "execution_count": 3,
   "metadata": {},
   "outputs": [],
   "source": [
    "lista = [12, 23, 34, 45, 56, 67]\n",
    "\n",
    "serie_pandas = pd.Series(lista)"
   ]
  },
  {
   "cell_type": "code",
   "execution_count": 5,
   "metadata": {},
   "outputs": [
    {
     "name": "stdout",
     "output_type": "stream",
     "text": [
      "12\n"
     ]
    }
   ],
   "source": [
    "print(serie_pandas[0])"
   ]
  },
  {
   "cell_type": "code",
   "execution_count": 6,
   "metadata": {},
   "outputs": [],
   "source": [
    "notas = {'Tiago' : 8, 'Guilherme' : 9.5, 'Juca' : 6.2}"
   ]
  },
  {
   "cell_type": "code",
   "execution_count": 7,
   "metadata": {},
   "outputs": [
    {
     "name": "stdout",
     "output_type": "stream",
     "text": [
      "Tiago        8.0\n",
      "Guilherme    9.5\n",
      "Juca         6.2\n",
      "dtype: float64\n"
     ]
    }
   ],
   "source": [
    "serie_notas = pd.Series(notas)\n",
    "print(serie_notas)\n"
   ]
  },
  {
   "cell_type": "code",
   "execution_count": 8,
   "metadata": {},
   "outputs": [
    {
     "name": "stdout",
     "output_type": "stream",
     "text": [
      "8.0\n"
     ]
    }
   ],
   "source": [
    "print(serie_notas['Tiago'])"
   ]
  },
  {
   "cell_type": "code",
   "execution_count": 11,
   "metadata": {},
   "outputs": [
    {
     "name": "stdout",
     "output_type": "stream",
     "text": [
      "Média: 7.8999999999999995\n",
      "Mediana: 8.0\n"
     ]
    }
   ],
   "source": [
    "print('Média:', serie_notas.mean())\n",
    "print('Mediana:', serie_notas.median())"
   ]
  },
  {
   "cell_type": "code",
   "execution_count": 12,
   "metadata": {},
   "outputs": [
    {
     "name": "stdout",
     "output_type": "stream",
     "text": [
      "count    3.000000\n",
      "mean     7.900000\n",
      "std      1.652271\n",
      "min      6.200000\n",
      "25%      7.100000\n",
      "50%      8.000000\n",
      "75%      8.750000\n",
      "max      9.500000\n",
      "dtype: float64\n"
     ]
    }
   ],
   "source": [
    "print(serie_notas.describe())"
   ]
  }
 ],
 "metadata": {
  "kernelspec": {
   "display_name": "base",
   "language": "python",
   "name": "python3"
  },
  "language_info": {
   "codemirror_mode": {
    "name": "ipython",
    "version": 3
   },
   "file_extension": ".py",
   "mimetype": "text/x-python",
   "name": "python",
   "nbconvert_exporter": "python",
   "pygments_lexer": "ipython3",
   "version": "3.10.9"
  },
  "orig_nbformat": 4
 },
 "nbformat": 4,
 "nbformat_minor": 2
}
